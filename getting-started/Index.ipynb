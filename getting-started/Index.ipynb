{
 "cells": [
  {
   "cell_type": "markdown",
   "metadata": {},
   "source": [
    "# Getting started"
   ]
  },
  {
   "cell_type": "markdown",
   "metadata": {},
   "source": [
    "Installing and using *An Introduction To Applied Bioinformatics*\n",
    "----------------------------------------------------------------\n",
    "\n",
    "See the [project website](http://caporasolab.us/An-Introduction-To-Applied-Bioinformatics/) for instructions on how to install and use *An Introduction To Applied Bioinformatics*.\n"
   ]
  },
  {
   "cell_type": "markdown",
   "metadata": {},
   "source": [
    "## Using the IPython Notebook"
   ]
  },
  {
   "cell_type": "markdown",
   "metadata": {},
   "source": [
    "These materials are based on the IPython Notebook, an interactive HTML-based python computing environment. The main source for information about the IPython Notebook is the [IPython Notebook website](http://ipython.org/notebook), and the [IPython Notebook example gallary](https://github.com/ipython/ipython/tree/master/examples/notebooks#a-collection-of-notebooks-for-using-ipython-effectively).\n",
    "\n",
    "Below I illustrate some examples of how I use the notebooks in the context of this project.\n",
    "\n",
    "Much of the code that is used for education purposes in this notebook is either include in this repository, or in the [scikit-bio](http://scikit-bio.org) package. You can access these as follows:"
   ]
  },
  {
   "cell_type": "code",
   "execution_count": 1,
   "metadata": {
    "collapsed": false
   },
   "outputs": [],
   "source": [
    "import skbio # import the scikit-bio package\n",
    "\n",
    "# do some notebook configuration\n",
    "from __future__ import print_function\n",
    "from IPython.core import page\n",
    "page.page = print"
   ]
  },
  {
   "cell_type": "markdown",
   "metadata": {},
   "source": [
    "We can then access functions, variables, and classes from these modules."
   ]
  },
  {
   "cell_type": "code",
   "execution_count": 2,
   "metadata": {
    "collapsed": false
   },
   "outputs": [
    {
     "name": "stdout",
     "output_type": "stream",
     "text": [
      "\n",
      "*                                                    *\n",
      "               _ _    _ _          _     _\n",
      "              (_) |  (_) |        | |   (_)\n",
      "      ___  ___ _| | ___| |_ ______| |__  _  ___\n",
      "     / __|/ __| | |/ / | __|______| '_ \\| |/ _ \\\n",
      "     \\__ \\ (__| |   <| | |_       | |_) | | (_) |\n",
      "     |___/\\___|_|_|\\_\\_|\\__|      |_.__/|_|\\___/\n",
      "\n",
      "*                                                    *\n",
      "\n",
      "\n",
      "\n",
      "           Opisthokonta\n",
      "                   \\  Amoebozoa\n",
      "                    \\ /\n",
      "                     *    Euryarchaeota\n",
      "                      \\     |_ Crenarchaeota\n",
      "                       \\   *\n",
      "                        \\ /\n",
      "                         *\n",
      "                        /\n",
      "                       /\n",
      "                      /\n",
      "                     *\n",
      "                    / \\\n",
      "                   /   \\\n",
      "        Proteobacteria  \\\n",
      "                       Cyanobacteria\n",
      "\n"
     ]
    }
   ],
   "source": [
    "print(skbio.title)\n",
    "print(skbio.art)"
   ]
  },
  {
   "cell_type": "markdown",
   "metadata": {},
   "source": [
    "We'll inspect a lot of source code through-out these notebooks to study core algorithms and objects used in bioinformatics. For example, if you're interested in a function in one of these packages, you can view the source code for that function as follows."
   ]
  },
  {
   "cell_type": "code",
   "execution_count": 3,
   "metadata": {
    "collapsed": false
   },
   "outputs": [
    {
     "name": "stdout",
     "output_type": "stream",
     "text": [
      "    \u001b[0;32mdef\u001b[0m \u001b[0mposition_entropies\u001b[0m\u001b[0;34m(\u001b[0m\u001b[0mself\u001b[0m\u001b[0;34m,\u001b[0m \u001b[0mbase\u001b[0m\u001b[0;34m=\u001b[0m\u001b[0mNone\u001b[0m\u001b[0;34m,\u001b[0m\u001b[0;34m\u001b[0m\n",
      "\u001b[0;34m\u001b[0m                           \u001b[0mnan_on_non_standard_chars\u001b[0m\u001b[0;34m=\u001b[0m\u001b[0mTrue\u001b[0m\u001b[0;34m)\u001b[0m\u001b[0;34m:\u001b[0m\u001b[0;34m\u001b[0m\n",
      "\u001b[0;34m\u001b[0m        \u001b[0;34m\"\"\"Return Shannon entropy of positions in Alignment\u001b[0m\n",
      "\u001b[0;34m\u001b[0m\n",
      "\u001b[0;34m        Parameters\u001b[0m\n",
      "\u001b[0;34m        ----------\u001b[0m\n",
      "\u001b[0;34m        base : float, optional\u001b[0m\n",
      "\u001b[0;34m            log base for entropy calculation. If not passed, default will be e\u001b[0m\n",
      "\u001b[0;34m            (i.e., natural log will be computed).\u001b[0m\n",
      "\u001b[0;34m        nan_on_non_standard_chars : bool, optional\u001b[0m\n",
      "\u001b[0;34m            if True, the entropy at positions containing characters outside of\u001b[0m\n",
      "\u001b[0;34m            the first sequence's `iupac_standard_characters` will be `np.nan`.\u001b[0m\n",
      "\u001b[0;34m            This is useful, and the default behavior, as it's not clear how a\u001b[0m\n",
      "\u001b[0;34m            gap or degenerate character should contribute to a positional\u001b[0m\n",
      "\u001b[0;34m            entropy. This issue was described in [1]_.\u001b[0m\n",
      "\u001b[0;34m\u001b[0m\n",
      "\u001b[0;34m        Returns\u001b[0m\n",
      "\u001b[0;34m        -------\u001b[0m\n",
      "\u001b[0;34m        list\u001b[0m\n",
      "\u001b[0;34m            List of floats of Shannon entropy at `Alignment` positions. Shannon\u001b[0m\n",
      "\u001b[0;34m            entropy is defined in [2]_.\u001b[0m\n",
      "\u001b[0;34m\u001b[0m\n",
      "\u001b[0;34m        See Also\u001b[0m\n",
      "\u001b[0;34m        --------\u001b[0m\n",
      "\u001b[0;34m        position_counters\u001b[0m\n",
      "\u001b[0;34m        position_frequencies\u001b[0m\n",
      "\u001b[0;34m\u001b[0m\n",
      "\u001b[0;34m        References\u001b[0m\n",
      "\u001b[0;34m        ----------\u001b[0m\n",
      "\u001b[0;34m        .. [1] Identifying DNA and protein patterns with statistically\u001b[0m\n",
      "\u001b[0;34m           significant alignments of multiple sequences.\u001b[0m\n",
      "\u001b[0;34m           Hertz GZ, Stormo GD.\u001b[0m\n",
      "\u001b[0;34m           Bioinformatics. 1999 Jul-Aug;15(7-8):563-77.\u001b[0m\n",
      "\u001b[0;34m        .. [2] A Mathematical Theory of Communication\u001b[0m\n",
      "\u001b[0;34m           CE Shannon\u001b[0m\n",
      "\u001b[0;34m           The Bell System Technical Journal (1948).\u001b[0m\n",
      "\u001b[0;34m\u001b[0m\n",
      "\u001b[0;34m        Examples\u001b[0m\n",
      "\u001b[0;34m        --------\u001b[0m\n",
      "\u001b[0;34m        >>> from skbio.alignment import Alignment\u001b[0m\n",
      "\u001b[0;34m        >>> from skbio.sequence import DNA\u001b[0m\n",
      "\u001b[0;34m        >>> sequences = [DNA('AC--', id=\"seq1\"),\u001b[0m\n",
      "\u001b[0;34m        ...              DNA('AT-C', id=\"seq2\"),\u001b[0m\n",
      "\u001b[0;34m        ...              DNA('TT-C', id=\"seq3\")]\u001b[0m\n",
      "\u001b[0;34m        >>> a1 = Alignment(sequences)\u001b[0m\n",
      "\u001b[0;34m        >>> print(a1.position_entropies())\u001b[0m\n",
      "\u001b[0;34m        [0.63651416829481278, 0.63651416829481278, nan, nan]\u001b[0m\n",
      "\u001b[0;34m\u001b[0m\n",
      "\u001b[0;34m        \"\"\"\u001b[0m\u001b[0;34m\u001b[0m\n",
      "\u001b[0;34m\u001b[0m        \u001b[0mresult\u001b[0m \u001b[0;34m=\u001b[0m \u001b[0;34m[\u001b[0m\u001b[0;34m]\u001b[0m\u001b[0;34m\u001b[0m\n",
      "\u001b[0;34m\u001b[0m        \u001b[0;31m# handle empty Alignment case\u001b[0m\u001b[0;34m\u001b[0m\n",
      "\u001b[0;34m\u001b[0m        \u001b[0;32mif\u001b[0m \u001b[0mself\u001b[0m\u001b[0;34m.\u001b[0m\u001b[0mis_empty\u001b[0m\u001b[0;34m(\u001b[0m\u001b[0;34m)\u001b[0m\u001b[0;34m:\u001b[0m\u001b[0;34m\u001b[0m\n",
      "\u001b[0;34m\u001b[0m            \u001b[0;32mreturn\u001b[0m \u001b[0mresult\u001b[0m\u001b[0;34m\u001b[0m\n",
      "\u001b[0;34m\u001b[0m\u001b[0;34m\u001b[0m\n",
      "\u001b[0;34m\u001b[0m        \u001b[0miupac_standard_characters\u001b[0m \u001b[0;34m=\u001b[0m \u001b[0mself\u001b[0m\u001b[0;34m[\u001b[0m\u001b[0;36m0\u001b[0m\u001b[0;34m]\u001b[0m\u001b[0;34m.\u001b[0m\u001b[0miupac_standard_characters\u001b[0m\u001b[0;34m(\u001b[0m\u001b[0;34m)\u001b[0m\u001b[0;34m\u001b[0m\n",
      "\u001b[0;34m\u001b[0m        \u001b[0;32mfor\u001b[0m \u001b[0mf\u001b[0m \u001b[0;32min\u001b[0m \u001b[0mself\u001b[0m\u001b[0;34m.\u001b[0m\u001b[0mposition_frequencies\u001b[0m\u001b[0;34m(\u001b[0m\u001b[0;34m)\u001b[0m\u001b[0;34m:\u001b[0m\u001b[0;34m\u001b[0m\n",
      "\u001b[0;34m\u001b[0m            \u001b[0;32mif\u001b[0m \u001b[0;34m(\u001b[0m\u001b[0mnan_on_non_standard_chars\u001b[0m \u001b[0;32mand\u001b[0m\u001b[0;34m\u001b[0m\n",
      "\u001b[0;34m\u001b[0m                    \u001b[0mlen\u001b[0m\u001b[0;34m(\u001b[0m\u001b[0mviewkeys\u001b[0m\u001b[0;34m(\u001b[0m\u001b[0mf\u001b[0m\u001b[0;34m)\u001b[0m \u001b[0;34m-\u001b[0m \u001b[0miupac_standard_characters\u001b[0m\u001b[0;34m)\u001b[0m \u001b[0;34m>\u001b[0m \u001b[0;36m0\u001b[0m\u001b[0;34m)\u001b[0m\u001b[0;34m:\u001b[0m\u001b[0;34m\u001b[0m\n",
      "\u001b[0;34m\u001b[0m                \u001b[0mresult\u001b[0m\u001b[0;34m.\u001b[0m\u001b[0mappend\u001b[0m\u001b[0;34m(\u001b[0m\u001b[0mnp\u001b[0m\u001b[0;34m.\u001b[0m\u001b[0mnan\u001b[0m\u001b[0;34m)\u001b[0m\u001b[0;34m\u001b[0m\n",
      "\u001b[0;34m\u001b[0m            \u001b[0;32melse\u001b[0m\u001b[0;34m:\u001b[0m\u001b[0;34m\u001b[0m\n",
      "\u001b[0;34m\u001b[0m                \u001b[0mresult\u001b[0m\u001b[0;34m.\u001b[0m\u001b[0mappend\u001b[0m\u001b[0;34m(\u001b[0m\u001b[0mentropy\u001b[0m\u001b[0;34m(\u001b[0m\u001b[0mlist\u001b[0m\u001b[0;34m(\u001b[0m\u001b[0mf\u001b[0m\u001b[0;34m.\u001b[0m\u001b[0mvalues\u001b[0m\u001b[0;34m(\u001b[0m\u001b[0;34m)\u001b[0m\u001b[0;34m)\u001b[0m\u001b[0;34m,\u001b[0m \u001b[0mbase\u001b[0m\u001b[0;34m=\u001b[0m\u001b[0mbase\u001b[0m\u001b[0;34m)\u001b[0m\u001b[0;34m)\u001b[0m\u001b[0;34m\u001b[0m\n",
      "\u001b[0;34m\u001b[0m        \u001b[0;32mreturn\u001b[0m \u001b[0mresult\u001b[0m\u001b[0;34m\u001b[0m\u001b[0m\n",
      "\n"
     ]
    }
   ],
   "source": [
    "from skbio.alignment import Alignment\n",
    "\n",
    "%psource Alignment.position_entropies"
   ]
  },
  {
   "cell_type": "markdown",
   "metadata": {},
   "source": [
    "The documentation for scikit-bio is also very extensive (though the package itself is still in early development). You can view the documentation for the `Alignment` object, for example, [here](http://scikit-bio.org/generated/skbio.core.alignment.Alignment.html#skbio.core.alignment.Alignment). These documents will be invaluable for learning how to use the objects."
   ]
  },
  {
   "cell_type": "markdown",
   "metadata": {},
   "source": [
    "## Need help?"
   ]
  },
  {
   "cell_type": "markdown",
   "metadata": {},
   "source": [
    "If you're having issues getting *An Introduction to Applied Bioinformatics* running on your computer, or you have corrections or suggestions on the content, you should get in touch through our [GitHub issue tracker](https://github.com/gregcaporaso/An-Introduction-To-Applied-Bioinformatics/issues). This will generally be much faster than e-mailing the author directly, as there are multiple people who monitor the issue tracker. It also helps us manage our technical support load if we can consolidate all requests and responses in one place."
   ]
  }
 ],
 "metadata": {
  "kernelspec": {
   "display_name": "Python 2",
   "language": "python",
   "name": "python2"
  },
  "language_info": {
   "codemirror_mode": {
    "name": "ipython",
    "version": 2
   },
   "file_extension": ".py",
   "mimetype": "text/x-python",
   "name": "python",
   "nbconvert_exporter": "python",
   "pygments_lexer": "ipython2",
   "version": "2.7.5"
  }
 },
 "nbformat": 4,
 "nbformat_minor": 0
}
