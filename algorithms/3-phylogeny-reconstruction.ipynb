{
 "cells": [
  {
   "cell_type": "markdown",
   "metadata": {},
   "source": [
    "**NOTE**: This chapter is very basic at this stage, and needs work on text and content. It is slated for expansion. In the meantime, if you're looking for extra information on this topic I recommend [Chapter 27 of *Evolution*](http://evolution-textbook.org/content/free/contents/ch27.html) (free), and [*Inferring Phylogeny* by Felsenstein](http://www.amazon.com/Inferring-Phylogenies-Joseph-Felsenstein/dp/0878931775/ref=sr_1_1?s=books&ie=UTF8&qid=1397401191&sr=1-1&keywords=inferring+phylogenies). You can add suggestions for content, note issues, and follow progress on it updates, in [issue #25](https://github.com/gregcaporaso/An-Introduction-To-Applied-Bioinformatics/issues/25)."
   ]
  },
  {
   "cell_type": "markdown",
   "metadata": {},
   "source": [
    "# Phylogenetic reconstruction"
   ]
  },
  {
   "cell_type": "markdown",
   "metadata": {},
   "source": [
    "What: \n",
    "\n",
    "The process of inferring the evolutionary relationships between organisms or groups of organisms, and usually representing that information as a tree. \n",
    "\n",
    "Why:\n",
    "\n",
    "1. Make functional inferences about genes. \n",
    "2. Understand relationships between organisms (and therefore possible similarities between them). \n",
    "3. Compare the composition of communities of organisms (but we'll come back to this).\n",
    "\n",
    "How:\n",
    "\n",
    "By comparing traits of extant organisms. In our case, traits are columns in a multiple sequence alignment. Many algorithms and tools exist for achieving this, and they vary widely in runtime and quality of results. We're going to begin by learning about one of the oldest and simplest methods for doing this: *Unweighted Pair Group Method with Arithmetic Mean* or UPGMA. (Don't be scared by the name - it's actually fairly simple.) \n",
    "\n",
    "UPGMA is a heirarchical clustering algorithm. It is widely used, though it's application in phylogenetics is usually restricted to building preliminary trees to \"guide\" the process of multiple sequence alignment, as it makes some assumptions that don't work well for inferring relationships between organsims. We're going to start with it here however for a few reasons. First, the underlying math is very basic, so we don't need to assume anything about your background. Second, there are some other applications of UPGMA that we'll explore later, including grouping samples based on their species compositions. In general, my strategy with teaching this material is to start by giving you a basic introdution into how a process works so you can visualize and do it. From there, we can get more complex."
   ]
  },
  {
   "cell_type": "markdown",
   "metadata": {},
   "source": [
    "## Some terminology"
   ]
  },
  {
   "cell_type": "markdown",
   "metadata": {},
   "source": [
    "Here's the goal (well, *a* goal, but this is the basic idea):\n",
    "\n",
    "<img src=\"files/images/basic-rooted-tree1.jpg\" width=600>\n",
    "\n",
    "Each *leaf* (or *tip*, or *terminal node*) in this tree represents a sequence, and the length of the horizonal branches between them indicate their dissimilarity to one another. This is a *rooted tree*, which means that it includes an assumption about the last common ancestor of all sequences represented in the tree. \n",
    "\n",
    "Note that the vertical lines in this tree are used for layout purposes only - they do not represent dissimilarity between sequences.\n",
    "\n",
    "An **unrooted trees**, like the following, doesn't include an assumption about the last common ancestor of all sequences:\n",
    "\n",
    "<img src=\"files/images/basic-unrooted-tree1.jpg\" width=600>\n",
    "\n",
    "\n",
    "**Terminal nodes, tips or leaves** extant organisms, frequently called operational taxonomic units or OTUs. OTUs are families of related organisms. \n",
    "\n",
    "**Internal nodes** hypothetical ancestors - we postulate their existence but often don’t have direct evidence.\n",
    "\n",
    "**Clade** a node and all nodes \"below\" it (i.e., toward the tips)\n",
    "\n",
    "**Root** the internal node defining the clade which contains all nodes in the tree\n",
    "\n",
    "**Branches** representative of the distance between the nodes.\n",
    "\n",
    "<img src=\"files/images/tree-schematic1.png\">\n"
   ]
  },
  {
   "cell_type": "markdown",
   "metadata": {},
   "source": [
    "**Monophyletic group** the last common ancestor was a member of the group (e.g., multicellular organisms)\n",
    "\n",
    "<img src=\"files/images/tree-monophyly.png\">\n",
    "\n",
    "**Polyphyletic group** the last common ancestor was not a member of the group (e.g., flying animals)\n",
    "\n",
    "<img src=\"files/images/tree-polyphyly.png\">"
   ]
  },
  {
   "cell_type": "markdown",
   "metadata": {},
   "source": [
    "We assume that as time progresses, sequences will diverge such that more similar sequences have diverged more recently. The problem of phylogenetic reconstruction however is that we only have the tips. We don't have sequences for the internal nodes, and so we use modern sequences to develop a hypothesis about the evolutionary history of a sequence (and hopefully of the organisms who encode those sequences in their genomes).\n",
    "\n",
    "<img src=\"files/images/sequence-evo-tree.png\">"
   ]
  },
  {
   "cell_type": "markdown",
   "metadata": {},
   "source": [
    "How many (rooted) trees are there for `n` sequences? This topic is discussed in detail in Chapter 3 of [Inferring Phylogenies](http://www.amazon.com/Inferring-Phylogenies-Joseph-Felsenstein/dp/0878931775/ref=sr_1_1?s=books&ie=UTF8&qid=1393288952&sr=1-1&keywords=inferring+phylogenies), the definitive text on this topic, but the basic answer is **a lot**.\n",
    "\n",
    "Because of the massive number of possible trees for any reasonable number of sequences, we can't just search all trees to figure out which one best matches our data. Instead, we must take a heurtistic approach to tree building. Some design features of heurtistic methods that are used in practice are that they:\n",
    "\n",
    "1. Look at a subset of the possible trees, and don’t guarantee to find the best tree. \n",
    "2. Scale to trees for many OTUs (how well they scale depends on the method, and there is a lot of variability)\n",
    "3. Often provide a single tree, so do not include information on how likely other tree topologies are (we’ll talk about methods, such as bootstrapping, to address this). \n"
   ]
  },
  {
   "cell_type": "markdown",
   "metadata": {},
   "source": [
    "## Distances and distance matrices"
   ]
  },
  {
   "cell_type": "markdown",
   "metadata": {},
   "source": [
    "Computing a UPGMA tree for a group of sequences relies on first computing *distances* between each pair of those sequences. A *distance*, in this sense, is a technical term. It's a measure of dissimilarity between two items, `x` and `y`, which meets a few criteria:\n",
    "\n",
    "1. `d(x,y) >= 0` (non-negativity)\n",
    "2. `d(x,y) = 0` [`iff`](http://en.wikipedia.org/wiki/If_and_only_if) `x = y` (identity of indiscernibles)\n",
    "3. `d(x,y) = d(y,x)` (symmetry) \n",
    "4. `d(x,z) <= d(x,y) + d(y,z)` (triangle inequality)\n",
    "\n",
    "Let's start with something more similar that sequences. Let's compute the distances between points in a Cartesian plane, to explore what each of these mean.  \n"
   ]
  },
  {
   "cell_type": "code",
   "execution_count": 1,
   "metadata": {
    "collapsed": false
   },
   "outputs": [
    {
     "data": {
      "text/plain": [
       "(0, 6.5)"
      ]
     },
     "execution_count": 1,
     "metadata": {},
     "output_type": "execute_result"
    },
    {
     "data": {
      "image/png": "[encoded data removed]",
      "text/plain": [
       "<matplotlib.figure.Figure at 0x106014c50>"
      ]
     },
     "metadata": {},
     "output_type": "display_data"
    }
   ],
   "source": [
    "%matplotlib inline\n",
    "from __future__ import print_function\n",
    "\n",
    "from IPython.core import page\n",
    "import matplotlib.pyplot as plt\n",
    "\n",
    "page.page = print\n",
    "\n",
    "x_vals = [1, 4, 2]\n",
    "y_vals = [3, 3, 6]\n",
    "coordinates = zip(x_vals, y_vals)\n",
    "\n",
    "fig, ax = plt.subplots()\n",
    "ax.scatter(x_vals, y_vals)\n",
    "ax.set_xlim(0)\n",
    "ax.set_ylim(0)"
   ]
  },
  {
   "cell_type": "code",
   "execution_count": 2,
   "metadata": {
    "collapsed": false
   },
   "outputs": [
    {
     "name": "stdout",
     "output_type": "stream",
     "text": [
      "\u001b[0;32mdef\u001b[0m \u001b[0meuclidean\u001b[0m\u001b[0;34m(\u001b[0m\u001b[0mu\u001b[0m\u001b[0;34m,\u001b[0m \u001b[0mv\u001b[0m\u001b[0;34m)\u001b[0m\u001b[0;34m:\u001b[0m\u001b[0;34m\u001b[0m\n",
      "\u001b[0;34m\u001b[0m    \u001b[0;34m\"\"\"\u001b[0m\n",
      "\u001b[0;34m    Computes the Euclidean distance between two 1-D arrays.\u001b[0m\n",
      "\u001b[0;34m\u001b[0m\n",
      "\u001b[0;34m    The Euclidean distance between 1-D arrays `u` and `v`, is defined as\u001b[0m\n",
      "\u001b[0;34m\u001b[0m\n",
      "\u001b[0;34m    .. math::\u001b[0m\n",
      "\u001b[0;34m\u001b[0m\n",
      "\u001b[0;34m       {||u-v||}_2\u001b[0m\n",
      "\u001b[0;34m\u001b[0m\n",
      "\u001b[0;34m    Parameters\u001b[0m\n",
      "\u001b[0;34m    ----------\u001b[0m\n",
      "\u001b[0;34m    u : (N,) array_like\u001b[0m\n",
      "\u001b[0;34m        Input array.\u001b[0m\n",
      "\u001b[0;34m    v : (N,) array_like\u001b[0m\n",
      "\u001b[0;34m        Input array.\u001b[0m\n",
      "\u001b[0;34m\u001b[0m\n",
      "\u001b[0;34m    Returns\u001b[0m\n",
      "\u001b[0;34m    -------\u001b[0m\n",
      "\u001b[0;34m    euclidean : double\u001b[0m\n",
      "\u001b[0;34m        The Euclidean distance between vectors `u` and `v`.\u001b[0m\n",
      "\u001b[0;34m\u001b[0m\n",
      "\u001b[0;34m    \"\"\"\u001b[0m\u001b[0;34m\u001b[0m\n",
      "\u001b[0;34m\u001b[0m    \u001b[0mu\u001b[0m \u001b[0;34m=\u001b[0m \u001b[0m_validate_vector\u001b[0m\u001b[0;34m(\u001b[0m\u001b[0mu\u001b[0m\u001b[0;34m)\u001b[0m\u001b[0;34m\u001b[0m\n",
      "\u001b[0;34m\u001b[0m    \u001b[0mv\u001b[0m \u001b[0;34m=\u001b[0m \u001b[0m_validate_vector\u001b[0m\u001b[0;34m(\u001b[0m\u001b[0mv\u001b[0m\u001b[0;34m)\u001b[0m\u001b[0;34m\u001b[0m\n",
      "\u001b[0;34m\u001b[0m    \u001b[0mdist\u001b[0m \u001b[0;34m=\u001b[0m \u001b[0mnorm\u001b[0m\u001b[0;34m(\u001b[0m\u001b[0mu\u001b[0m \u001b[0;34m-\u001b[0m \u001b[0mv\u001b[0m\u001b[0;34m)\u001b[0m\u001b[0;34m\u001b[0m\n",
      "\u001b[0;34m\u001b[0m    \u001b[0;32mreturn\u001b[0m \u001b[0mdist\u001b[0m\u001b[0;34m\u001b[0m\u001b[0m\n",
      "\n"
     ]
    }
   ],
   "source": [
    "from scipy.spatial.distance import euclidean\n",
    "%psource euclidean"
   ]
  },
  {
   "cell_type": "markdown",
   "metadata": {},
   "source": [
    "Does Euclidean distance appear to meet the above four requirements of a distance metric?\n",
    "\n",
    "\n",
    "We can now compute the distances between all of these pairs of coordinates, and we can store these in what's known as a *distance matrix*. "
   ]
  },
  {
   "cell_type": "code",
   "execution_count": 3,
   "metadata": {
    "collapsed": false
   },
   "outputs": [
    {
     "name": "stdout",
     "output_type": "stream",
     "text": [
      "[[0.0, 3.0, 3.1622776601683795], [3.0, 0.0, 3.6055512754639891], [3.1622776601683795, 3.6055512754639891, 0.0]]\n"
     ]
    }
   ],
   "source": [
    "dm = []\n",
    "\n",
    "for c1 in coordinates:\n",
    "    row = []\n",
    "    for c2 in coordinates:\n",
    "        row.append(euclidean(c1, c2))\n",
    "    dm.append(row)\n",
    "\n",
    "print(dm)"
   ]
  },
  {
   "cell_type": "markdown",
   "metadata": {},
   "source": [
    "The [scikit-bio](https://github.com/biocore/scikit-bio) project defines defines a ``DistanceMatrix`` object that we can use to work with this."
   ]
  },
  {
   "cell_type": "code",
   "execution_count": 4,
   "metadata": {
    "collapsed": false
   },
   "outputs": [],
   "source": [
    "from skbio.stats.distance import DistanceMatrix\n",
    "\n",
    "dm = DistanceMatrix(dm, map(str,range(3)))"
   ]
  },
  {
   "cell_type": "markdown",
   "metadata": {},
   "source": [
    "One feature that this gets us is nicer printing."
   ]
  },
  {
   "cell_type": "code",
   "execution_count": 5,
   "metadata": {
    "collapsed": false
   },
   "outputs": [
    {
     "name": "stdout",
     "output_type": "stream",
     "text": [
      "3x3 distance matrix\n",
      "IDs:\n",
      "'0', '1', '2'\n",
      "Data:\n",
      "[[ 0.          3.          3.16227766]\n",
      " [ 3.          0.          3.60555128]\n",
      " [ 3.16227766  3.60555128  0.        ]]\n"
     ]
    }
   ],
   "source": [
    "print(dm)"
   ]
  },
  {
   "cell_type": "markdown",
   "metadata": {},
   "source": [
    "[scikit-bio](https://github.com/biocore/scikit-bio) also provides a convenience wrapper that runs the SciPy *pairwise distance* measures for us and returns a ``DistanceMatrix`` object. We'll use that from here."
   ]
  },
  {
   "cell_type": "code",
   "execution_count": 6,
   "metadata": {
    "collapsed": false
   },
   "outputs": [
    {
     "name": "stdout",
     "output_type": "stream",
     "text": [
      "Help on function pw_distances in module skbio.diversity.beta._base:\n",
      "\n",
      "pw_distances(counts, ids=None, metric='braycurtis')\n",
      "    Compute distances between all pairs of columns in a counts matrix\n",
      "    \n",
      "    Parameters\n",
      "    ----------\n",
      "    counts : 2D array_like of ints or floats\n",
      "        Matrix containing count/abundance data where each row contains counts\n",
      "        of observations in a given sample.\n",
      "    ids : iterable of strs, optional\n",
      "        Identifiers for each sample in ``counts``.\n",
      "    metric : str, optional\n",
      "        The name of the pairwise distance function to use when generating\n",
      "        pairwise distances. See the scipy ``pdist`` docs, linked under *See\n",
      "        Also*, for available metrics.\n",
      "    \n",
      "    Returns\n",
      "    -------\n",
      "    skbio.DistanceMatrix\n",
      "        Distances between all pairs of samples (i.e., rows). The number of\n",
      "        row and columns will be equal to the number of rows in ``counts``.\n",
      "    \n",
      "    Raises\n",
      "    ------\n",
      "    ValueError\n",
      "        If ``len(ids) != len(counts)``.\n",
      "    \n",
      "    See Also\n",
      "    --------\n",
      "    scipy.spatial.distance.pdist\n",
      "    pw_distances_from_table\n",
      "\n"
     ]
    }
   ],
   "source": [
    "from skbio.diversity.beta import pw_distances\n",
    "help(pw_distances)"
   ]
  },
  {
   "cell_type": "code",
   "execution_count": 7,
   "metadata": {
    "collapsed": false
   },
   "outputs": [
    {
     "name": "stdout",
     "output_type": "stream",
     "text": [
      "3x3 distance matrix\n",
      "IDs:\n",
      "'0', '1', '2'\n",
      "Data:\n",
      "[[ 0.          3.          3.16227766]\n",
      " [ 3.          0.          3.60555128]\n",
      " [ 3.16227766  3.60555128  0.        ]]\n"
     ]
    }
   ],
   "source": [
    "dm = pw_distances(coordinates, metric=\"euclidean\")\n",
    "print(dm)"
   ]
  },
  {
   "cell_type": "markdown",
   "metadata": {},
   "source": [
    "The conditions of a distance matrix listed above lead to a few specific features: the distance matrix is symmetric (if you flip the upper triangle over the diagonal, the values are the same as those in the lower triangle), the distance matrix is *hollow* (the diagonal is all zeros), and there are no negative values. "
   ]
  },
  {
   "cell_type": "markdown",
   "metadata": {},
   "source": [
    "## Computing the distance between pairs of sequences."
   ]
  },
  {
   "cell_type": "markdown",
   "metadata": {},
   "source": [
    "Most often, distances between pairs of sequences are derived from a multiple sequence alignment. These differ from the pairwise alignments that we’ve looked at thus far, but use the same underlying algorithms (and we'll be coming back to this in the next chapeter).\n",
    "\n",
    "Let's load up some aligned sequences, and compute a distance matrix. For now, we'll compute distances between the sequences using the ``hamming`` function that we worked with in the pairwise alignment chapter."
   ]
  },
  {
   "cell_type": "code",
   "execution_count": 8,
   "metadata": {
    "collapsed": false
   },
   "outputs": [],
   "source": [
    "from skbio import Alignment, DNA\n",
    "aln = Alignment([DNA('ACCGTGAAGCCAATAC', 's1'), \n",
    "                 DNA('A-CGTGCAACCATTAC', 's2'),\n",
    "                 DNA('AGCGTGCAGCCAATAC', 's3'),\n",
    "                 DNA('AGGGTGCCGC-AATAC', 's4'),\n",
    "                 DNA('AGGGTGCCAC-AATAC', 's5')])"
   ]
  },
  {
   "cell_type": "code",
   "execution_count": 9,
   "metadata": {
    "collapsed": false
   },
   "outputs": [
    {
     "name": "stdout",
     "output_type": "stream",
     "text": [
      "    \u001b[0;32mdef\u001b[0m \u001b[0mdistances\u001b[0m\u001b[0;34m(\u001b[0m\u001b[0mself\u001b[0m\u001b[0;34m,\u001b[0m \u001b[0mdistance_fn\u001b[0m\u001b[0;34m=\u001b[0m\u001b[0mNone\u001b[0m\u001b[0;34m)\u001b[0m\u001b[0;34m:\u001b[0m\u001b[0;34m\u001b[0m\n",
      "\u001b[0;34m\u001b[0m        \u001b[0;34m\"\"\"Compute distances between all pairs of sequences\u001b[0m\n",
      "\u001b[0;34m\u001b[0m\n",
      "\u001b[0;34m        Parameters\u001b[0m\n",
      "\u001b[0;34m        ----------\u001b[0m\n",
      "\u001b[0;34m        distance_fn : function, optional\u001b[0m\n",
      "\u001b[0;34m            Function for computing the distance between a pair of sequences.\u001b[0m\n",
      "\u001b[0;34m            This must take two sequences as input (as\u001b[0m\n",
      "\u001b[0;34m            `skbio.sequence.BiologicalSequence` objects) and return a\u001b[0m\n",
      "\u001b[0;34m            single integer or float value. Defaults to\u001b[0m\n",
      "\u001b[0;34m            `scipy.spatial.distance.hamming`.\u001b[0m\n",
      "\u001b[0;34m\u001b[0m\n",
      "\u001b[0;34m        Returns\u001b[0m\n",
      "\u001b[0;34m        -------\u001b[0m\n",
      "\u001b[0;34m        skbio.DistanceMatrix\u001b[0m\n",
      "\u001b[0;34m            Matrix containing the distances between all pairs of sequences.\u001b[0m\n",
      "\u001b[0;34m\u001b[0m\n",
      "\u001b[0;34m        Raises\u001b[0m\n",
      "\u001b[0;34m        ------\u001b[0m\n",
      "\u001b[0;34m        skbio.util.exception.BiologicalSequenceError\u001b[0m\n",
      "\u001b[0;34m            If ``len(self) != len(other)`` and ``distance_fn`` ==\u001b[0m\n",
      "\u001b[0;34m            ``scipy.spatial.distance.hamming``.\u001b[0m\n",
      "\u001b[0;34m\u001b[0m\n",
      "\u001b[0;34m        See Also\u001b[0m\n",
      "\u001b[0;34m        --------\u001b[0m\n",
      "\u001b[0;34m        skbio.DistanceMatrix\u001b[0m\n",
      "\u001b[0;34m        scipy.spatial.distance.hamming\u001b[0m\n",
      "\u001b[0;34m\u001b[0m\n",
      "\u001b[0;34m        Examples\u001b[0m\n",
      "\u001b[0;34m        --------\u001b[0m\n",
      "\u001b[0;34m        >>> from skbio.alignment import Alignment\u001b[0m\n",
      "\u001b[0;34m        >>> from skbio.sequence import DNA\u001b[0m\n",
      "\u001b[0;34m        >>> seqs = [DNA(\"A-CCGGG\", id=\"s1\"),\u001b[0m\n",
      "\u001b[0;34m        ...         DNA(\"ATCC--G\", id=\"s2\"),\u001b[0m\n",
      "\u001b[0;34m        ...         DNA(\"ATCCGGA\", id=\"s3\")]\u001b[0m\n",
      "\u001b[0;34m        >>> a1 = Alignment(seqs)\u001b[0m\n",
      "\u001b[0;34m        >>> print(a1.distances())\u001b[0m\n",
      "\u001b[0;34m        3x3 distance matrix\u001b[0m\n",
      "\u001b[0;34m        IDs:\u001b[0m\n",
      "\u001b[0;34m        's1', 's2', 's3'\u001b[0m\n",
      "\u001b[0;34m        Data:\u001b[0m\n",
      "\u001b[0;34m        [[ 0.          0.42857143  0.28571429]\u001b[0m\n",
      "\u001b[0;34m         [ 0.42857143  0.          0.42857143]\u001b[0m\n",
      "\u001b[0;34m         [ 0.28571429  0.42857143  0.        ]]\u001b[0m\n",
      "\u001b[0;34m\u001b[0m\n",
      "\u001b[0;34m        \"\"\"\u001b[0m\u001b[0;34m\u001b[0m\n",
      "\u001b[0;34m\u001b[0m        \u001b[0;32mreturn\u001b[0m \u001b[0msuper\u001b[0m\u001b[0;34m(\u001b[0m\u001b[0mAlignment\u001b[0m\u001b[0;34m,\u001b[0m \u001b[0mself\u001b[0m\u001b[0;34m)\u001b[0m\u001b[0;34m.\u001b[0m\u001b[0mdistances\u001b[0m\u001b[0;34m(\u001b[0m\u001b[0mdistance_fn\u001b[0m\u001b[0;34m)\u001b[0m\u001b[0;34m\u001b[0m\u001b[0m\n",
      "\n"
     ]
    }
   ],
   "source": [
    "%psource aln.distances"
   ]
  },
  {
   "cell_type": "code",
   "execution_count": 10,
   "metadata": {
    "collapsed": false
   },
   "outputs": [
    {
     "name": "stdout",
     "output_type": "stream",
     "text": [
      "5x5 distance matrix\n",
      "IDs:\n",
      "'s1', 's2', 's3', 's4', 's5'\n",
      "Data:\n",
      "[[ 0.      0.25    0.125   0.3125  0.375 ]\n",
      " [ 0.25    0.      0.1875  0.375   0.3125]\n",
      " [ 0.125   0.1875  0.      0.1875  0.25  ]\n",
      " [ 0.3125  0.375   0.1875  0.      0.0625]\n",
      " [ 0.375   0.3125  0.25    0.0625  0.    ]]\n"
     ]
    }
   ],
   "source": [
    "master_dm = aln.distances()\n",
    "print(master_dm)"
   ]
  },
  {
   "cell_type": "markdown",
   "metadata": {},
   "source": [
    "Once we have these distances, we can cluster the sequences based on their similiaries/dissimilarities. This is the first process that we'll explore for tree building.\n",
    "\n",
    "**NOTE:** The example below assumes that each value in this distance matrix is multiplied by the sequence length, so we'll do that here and work work with the resulting distance matrix."
   ]
  },
  {
   "cell_type": "code",
   "execution_count": 11,
   "metadata": {
    "collapsed": false
   },
   "outputs": [
    {
     "name": "stdout",
     "output_type": "stream",
     "text": [
      "5x5 distance matrix\n",
      "IDs:\n",
      "'s1', 's2', 's3', 's4', 's5'\n",
      "Data:\n",
      "[[ 0.  4.  2.  5.  6.]\n",
      " [ 4.  0.  3.  6.  5.]\n",
      " [ 2.  3.  0.  3.  4.]\n",
      " [ 5.  6.  3.  0.  1.]\n",
      " [ 6.  5.  4.  1.  0.]]\n"
     ]
    }
   ],
   "source": [
    "master_dm = DistanceMatrix(master_dm.data*16, master_dm.ids)\n",
    "print(master_dm)"
   ]
  },
  {
   "cell_type": "markdown",
   "metadata": {},
   "source": [
    "## Hierarchical clustering with UPGMA"
   ]
  },
  {
   "cell_type": "markdown",
   "metadata": {},
   "source": [
    "Unweighted Pair-Group Method with Arithmetic mean\n",
    "\n",
    "Unweighted: all tip-to-tip distances contribute equally\n",
    "Pair-group: all branch points lead to exactly two clades\n",
    "Arithmetic mean: distances to each clade are the mean of distances to all members of that clade\n",
    "\n",
    "Steps\n",
    "-----\n",
    "\n",
    "1. Identify the smallest distance in the matrix and define a clade containing only those members. Draw that clade, and set the *total* branch length to the distance between the tips.\n",
    "2. Create a new distance matrix with an entry representing the clade created in step 1. \n",
    "3. Calculate the distance matrix entries for the clade as the mean distance from each of the tips of the new clade to all other tips in the distance matrix.\n",
    "4. If there is only one distance (below or above the diagonal) in the distance matrix, use it to connect the remaing clades, and stop. Otherwise repeat step 1. \n",
    "\n",
    "Let's start, working from the above distance matrix."
   ]
  },
  {
   "cell_type": "markdown",
   "metadata": {},
   "source": [
    "Iteration 1\n",
    "------------\n",
    "\n",
    "Step 1.1: The smallest distance in the above matrix is `1.00`, between `s4` and `s5`. So, we'll draw that clade and set each branch length to `0.5`. \n",
    "\n",
    "Step 1.2: Next, we'll create a new, smaller distance matrix where the sequences `s4` and `s5` are now represented by a single clade, `(s4, s5)`. \n",
    "\n",
    "<img src=\"files/images/upgma-tree-iter1.png\">"
   ]
  },
  {
   "cell_type": "code",
   "execution_count": 12,
   "metadata": {
    "collapsed": false
   },
   "outputs": [],
   "source": [
    "iter1_ids = ['s1', 's2', 's3', '(s4, s5)']\n",
    "iter1_dm = [[0.0,   4.0,  2.0, None], \n",
    "            [4.0,   0.0,  3.0, None], \n",
    "            [2.0,   3.0,  0.0, None], \n",
    "            [None, None, None, None]]"
   ]
  },
  {
   "cell_type": "markdown",
   "metadata": {},
   "source": [
    "Step 1.3: We'll now fill in the values from the new clade to each of the existing sequences (or clades). The distance will be the mean between a pre-existing clades, and each of the sequences in the new clade. For example, the distance between `s1` and `(s4, s5)` is the mean of the distance between `s1` and `s4` and `s1` and `s5`:"
   ]
  },
  {
   "cell_type": "code",
   "execution_count": 13,
   "metadata": {
    "collapsed": false
   },
   "outputs": [
    {
     "data": {
      "text/plain": [
       "5.5"
      ]
     },
     "execution_count": 13,
     "metadata": {},
     "output_type": "execute_result"
    }
   ],
   "source": [
    "import numpy as np\n",
    "\n",
    "np.mean([master_dm[0][3], master_dm[0][4]])"
   ]
  },
  {
   "cell_type": "markdown",
   "metadata": {},
   "source": [
    "Step 1.3 (continued): Similarly, the distance between `s2` and `(s4, s5)` is the mean of the distance between `s2` and `s4` and `s2` and `s5`:"
   ]
  },
  {
   "cell_type": "code",
   "execution_count": 14,
   "metadata": {
    "collapsed": false
   },
   "outputs": [
    {
     "data": {
      "text/plain": [
       "5.5"
      ]
     },
     "execution_count": 14,
     "metadata": {},
     "output_type": "execute_result"
    }
   ],
   "source": [
    "np.mean([master_dm[1][3], master_dm[1][4]])"
   ]
  },
  {
   "cell_type": "markdown",
   "metadata": {},
   "source": [
    "Step 1.3 (continued): And finally, the distance between `s3` and `(s4, s5)` is the mean of the distance between `s3` and `s4` and the distance between `s3` and `s5`:"
   ]
  },
  {
   "cell_type": "code",
   "execution_count": 15,
   "metadata": {
    "collapsed": false
   },
   "outputs": [
    {
     "data": {
      "text/plain": [
       "3.5"
      ]
     },
     "execution_count": 15,
     "metadata": {},
     "output_type": "execute_result"
    }
   ],
   "source": [
    "np.mean([master_dm[2][3], master_dm[2][4]])"
   ]
  },
  {
   "cell_type": "markdown",
   "metadata": {},
   "source": [
    "Step 1.3 (continued): If we fill these values in (note that they will be the same above and below the diagonal) the post-iteration 1 distance matrix looks like the following:"
   ]
  },
  {
   "cell_type": "code",
   "execution_count": 16,
   "metadata": {
    "collapsed": false
   },
   "outputs": [
    {
     "name": "stdout",
     "output_type": "stream",
     "text": [
      "4x4 distance matrix\n",
      "IDs:\n",
      "'s1', 's2', 's3', '(s4, s5)'\n",
      "Data:\n",
      "[[ 0.   4.   2.   5.5]\n",
      " [ 4.   0.   3.   5.5]\n",
      " [ 2.   3.   0.   3.5]\n",
      " [ 5.5  5.5  3.5  0. ]]\n"
     ]
    }
   ],
   "source": [
    "iter1_dm = [[0.0, 4.0, 2.0, 5.5], \n",
    "      [4.0, 0.0, 3.0, 5.5], \n",
    "      [2.0, 3.0, 0.0, 3.5], \n",
    "      [5.5, 5.5, 3.5, 0.0]]\n",
    "\n",
    "iter1_dm = DistanceMatrix(iter1_dm, iter1_ids)\n",
    "print(iter1_dm)"
   ]
  },
  {
   "cell_type": "markdown",
   "metadata": {},
   "source": [
    "Step 1.4: There is still more than one value below the diagonal, so we start a new iteration."
   ]
  },
  {
   "cell_type": "markdown",
   "metadata": {},
   "source": [
    "Iteration 2\n",
    "------------\n",
    "\n",
    "Step 2.1: The smallest distance in the above matrix is `2.00`, between `s1` and `s3`. So, we'll draw that clade and set each branch length to `1.0`. \n",
    "\n",
    "Step 2.2: Next, we'll create a new, smaller distance matrix where the sequences `s1` and `s3` are now represented by a single clade, `(s1, s3)`. \n",
    "\n",
    "<img src=\"files/images/upgma-tree-iter2.png\">"
   ]
  },
  {
   "cell_type": "code",
   "execution_count": 17,
   "metadata": {
    "collapsed": false
   },
   "outputs": [],
   "source": [
    "iter2_ids = ['(s1, s3)', 's2', '(s4, s5)']\n",
    "\n",
    "iter2_dm = [[None, None, None], \n",
    "      [None,  0.0, 5.5], \n",
    "      [None,  5.5, 0.0]]"
   ]
  },
  {
   "cell_type": "markdown",
   "metadata": {},
   "source": [
    "Step 2.3: We'll now fill in the values from the new clade to each of the existing sequences (or clades). The distance will be the mean between a pre-existing clades, and each of the sequences in the new clade. For example, the distance between `s2` and `(s1, s3)` is the mean of the distance between `s2` and `s1` and `s2` and `s3`:"
   ]
  },
  {
   "cell_type": "code",
   "execution_count": 18,
   "metadata": {
    "collapsed": false
   },
   "outputs": [
    {
     "data": {
      "text/plain": [
       "3.5"
      ]
     },
     "execution_count": 18,
     "metadata": {},
     "output_type": "execute_result"
    }
   ],
   "source": [
    "np.mean([master_dm[1][0], master_dm[1][2]])"
   ]
  },
  {
   "cell_type": "markdown",
   "metadata": {},
   "source": [
    "Step 2.3 (continued): Next, we need to find the distance between `(s1, s3)` and `(s4, s5)`. This is computed as the mean of the distance between `s1` and `s4`, the distance between `s1` and `s5`, the distance between `s3` and `s4`, and the distance between `s3` and `s5`. Note that we are going back to our master distance matrix here for these distances, **not** our iteration 1 distance matrix."
   ]
  },
  {
   "cell_type": "code",
   "execution_count": 19,
   "metadata": {
    "collapsed": false
   },
   "outputs": [
    {
     "data": {
      "text/plain": [
       "4.5"
      ]
     },
     "execution_count": 19,
     "metadata": {},
     "output_type": "execute_result"
    }
   ],
   "source": [
    "np.mean([master_dm[0][3], master_dm[0][4], master_dm[2][3], master_dm[2][4]])"
   ]
  },
  {
   "cell_type": "markdown",
   "metadata": {},
   "source": [
    "Step 2.3 (continued): We can now fill in all of the distances in our iteration 2 distance matrix."
   ]
  },
  {
   "cell_type": "code",
   "execution_count": 20,
   "metadata": {
    "collapsed": false
   },
   "outputs": [
    {
     "name": "stdout",
     "output_type": "stream",
     "text": [
      "3x3 distance matrix\n",
      "IDs:\n",
      "'(s1, s3)', 's2', '(s4, s5)'\n",
      "Data:\n",
      "[[ 0.   3.5  4.5]\n",
      " [ 3.5  0.   5.5]\n",
      " [ 4.5  5.5  0. ]]\n"
     ]
    }
   ],
   "source": [
    "iter2_dm = [[0.0, 3.5, 4.5], \n",
    "            [3.5, 0.0, 5.5], \n",
    "            [4.5, 5.5, 0.0]]\n",
    "\n",
    "iter2_dm = DistanceMatrix(iter2_dm, iter2_ids)\n",
    "print(iter2_dm)"
   ]
  },
  {
   "cell_type": "markdown",
   "metadata": {},
   "source": [
    "Step 2.4: There is still more than one value below the diagonal, so we start a new iteration."
   ]
  },
  {
   "cell_type": "markdown",
   "metadata": {},
   "source": [
    "Iteration 3\n",
    "------------\n",
    "\n",
    "Step 3.1: The smallest distance in the above matrix is `3.50`, between `(s1, s3)` and `s2`. So, we'll draw that clade and set each branch length to `1.75`. \n",
    "\n",
    "Step 3.2: Next, we'll create a new, smaller distance matrix where the clade `(s1, s3)` and the sequence `s2` are now represented by a single clade, `((s1, s3), s2)`. \n",
    "\n",
    "<img src=\"files/images/upgma-tree-iter3.png\">"
   ]
  },
  {
   "cell_type": "code",
   "execution_count": 21,
   "metadata": {
    "collapsed": false
   },
   "outputs": [],
   "source": [
    "iter3_ids = ['((s1, s3), s2)', '(s4, s5)']\n",
    "\n",
    "iter3_dm = [[None, None], \n",
    "            [None,  0.0]]"
   ]
  },
  {
   "cell_type": "markdown",
   "metadata": {},
   "source": [
    "Step 3.3: We'll now fill in the values from the new clade to each of the existing sequences (or clades). This is computed as the mean of the distance between `s1` and `s4`, the distance between `s1` and `s5`, the distance between `s3` and `s4`, the distance between `s3` and `s5`, the distance between `s2` and `s4`, and the distance between `s2` and `s5`. Again, note that we are going back to our master distance matrix here for these distances, **not** our iteration 1 or iteration 2 distance matrix."
   ]
  },
  {
   "cell_type": "code",
   "execution_count": 22,
   "metadata": {
    "collapsed": false
   },
   "outputs": [
    {
     "data": {
      "text/plain": [
       "4.833333333333333"
      ]
     },
     "execution_count": 22,
     "metadata": {},
     "output_type": "execute_result"
    }
   ],
   "source": [
    "np.mean([master_dm[0][3], master_dm[0][4], master_dm[2][3], master_dm[2][4], master_dm[1][3], master_dm[1][4]])"
   ]
  },
  {
   "cell_type": "markdown",
   "metadata": {},
   "source": [
    "Step 3.3 (continued): We can now fill in all of the distances in our iteration 3 distance matrix. "
   ]
  },
  {
   "cell_type": "code",
   "execution_count": 23,
   "metadata": {
    "collapsed": false
   },
   "outputs": [
    {
     "name": "stdout",
     "output_type": "stream",
     "text": [
      "2x2 distance matrix\n",
      "IDs:\n",
      "'((s1, s3), s2)', '(s4, s5)'\n",
      "Data:\n",
      "[[ 0.   4.8]\n",
      " [ 4.8  0. ]]\n"
     ]
    }
   ],
   "source": [
    "iter3_dm = [[0.0, 4.8], \n",
    "            [4.8, 0.0]]\n",
    "\n",
    "iter3_dm = DistanceMatrix(iter3_dm, iter3_ids)\n",
    "print(iter3_dm)"
   ]
  },
  {
   "cell_type": "markdown",
   "metadata": {},
   "source": [
    "Step 3.4: At this stage, there is only one distance below the diagonal in our distance matrix. So, we can use that distance to draw the final branch in our tree, setting the total branch length to 4.8.\n",
    "\n",
    "<img src=\"files/images/upgma-tree-final.png\">"
   ]
  },
  {
   "cell_type": "markdown",
   "metadata": {},
   "source": [
    "[SciPy](http://www.scipy.org/) contains support for running UPGMA and generating *dendrograms* (or basic tree visualizations). We can apply this to our distance matrix as follows. You can explore other options for hierarchical clustering in SciPy [here](http://docs.scipy.org/doc/scipy/reference/cluster.hierarchy.html) (see the *routines for agglomerative clustering*).  "
   ]
  },
  {
   "cell_type": "code",
   "execution_count": 24,
   "metadata": {
    "collapsed": false
   },
   "outputs": [
    {
     "data": {
      "image/png": "[encoded data removed]",
      "text/plain": [
       "<matplotlib.figure.Figure at 0x10b77b350>"
      ]
     },
     "metadata": {},
     "output_type": "display_data"
    }
   ],
   "source": [
    "# scipy.cluster.hierarchy.average is an implementation of UPGMA\n",
    "from scipy.cluster.hierarchy import average, dendrogram\n",
    "lm = average(master_dm.condensed_form())\n",
    "d = dendrogram(lm, labels=master_dm.ids, orientation='right', \n",
    "               link_color_func=lambda x: 'black')"
   ]
  },
  {
   "cell_type": "markdown",
   "metadata": {},
   "source": [
    "## Acknowledgements"
   ]
  },
  {
   "cell_type": "markdown",
   "metadata": {},
   "source": [
    "The material in this section was compiled while consulting the following sources:\n",
    "\n",
    "1. The Phylogenetic Handbook (Lemey, Salemi, Vandamme)\n",
    "2. Inferring Phylogeny (Felsenstein)\n",
    "3. [Richard Edwards’s teaching website](http://www.southampton.ac.uk/~re1u06/teaching/upgma/)\n"
   ]
  }
 ],
 "metadata": {
  "kernelspec": {
   "display_name": "Python 2",
   "language": "python",
   "name": "python2"
  },
  "language_info": {
   "codemirror_mode": {
    "name": "ipython",
    "version": 2
   },
   "file_extension": ".py",
   "mimetype": "text/x-python",
   "name": "python",
   "nbconvert_exporter": "python",
   "pygments_lexer": "ipython2",
   "version": "2.7.5"
  }
 },
 "nbformat": 4,
 "nbformat_minor": 0
}
